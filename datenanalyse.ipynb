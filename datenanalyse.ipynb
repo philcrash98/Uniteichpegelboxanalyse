{
 "cells": [
  {
   "cell_type": "code",
   "execution_count": null,
   "id": "initial_id",
   "metadata": {
    "collapsed": true
   },
   "outputs": [],
   "source": [
    "import pandas as pd\n",
    "import numpy as np\n",
    "import matplotlib.pyplot as plt\n",
    "import seaborn as sns\n",
    "import matplotlib.dates as mdates\n",
    "import plotly.express as px\n",
    "\n",
    "# Daten einlesen\n",
    "gboxdf = pd.read_csv('gboxdata092025.csv', sep=';')\n",
    "weatherdf = pd.read_csv('openmeteodata.csv', sep=',', skiprows=3)\n",
    "\n",
    "# Konvertierung der Zeitstempel in datetime-Objekte\n",
    "gboxdf['Timestamp'] = pd.to_datetime(gboxdf['Timestamp'])"
   ]
  },
  {
   "metadata": {},
   "cell_type": "code",
   "outputs": [],
   "execution_count": null,
   "source": [
    "# Überblick über die Daten\n",
    "print(\"Überblick über gboxdf:\")\n",
    "print(gboxdf.head())\n",
    "print(\"\\nInformationen über gboxdf:\")\n",
    "print(gboxdf.info())\n",
    "print(\"\\nStatistiken zu gboxdf:\")\n",
    "print(gboxdf.describe())"
   ],
   "id": "17df413d93282ac9"
  },
  {
   "metadata": {},
   "cell_type": "code",
   "outputs": [],
   "execution_count": null,
   "source": [
    "# Korrigierte Filterung nach SensorID und MeasureName\n",
    "# Beachte die Klammern um die Bedingungen\n",
    "sensor_101_df = gboxdf[(gboxdf['SensorID'] == 101) & (gboxdf['MeasureName'] == 'moisture')][['Timestamp', 'Value']]\n",
    "sensor_102_df = gboxdf[(gboxdf['SensorID'] == 102) & (gboxdf['MeasureName'] == 'moisture')][['Timestamp', 'Value']]\n",
    "sensor_103_df = gboxdf[(gboxdf['SensorID'] == 103) & (gboxdf['MeasureName'] == 'moisture')][['Timestamp', 'Value']]\n",
    "sensor_104_df = gboxdf[(gboxdf['SensorID'] == 104) & (gboxdf['MeasureName'] == 'moisture')][['Timestamp', 'Value']]\n",
    "sensor_105_df = gboxdf[(gboxdf['SensorID'] == 105) & (gboxdf['MeasureName'] == 'moisture')][['Timestamp', 'Value']]\n",
    "\n",
    "# Anzeige der ersten Zeilen von sensor_101_df\n",
    "print(\"Erste Zeilen von sensor_101_df:\")\n",
    "print(sensor_101_df.head())"
   ],
   "id": "8adbe6e328871342"
  },
  {
   "metadata": {},
   "cell_type": "code",
   "outputs": [],
   "execution_count": null,
   "source": [
    "# Temperaturdaten filtern\n",
    "temp_df = gboxdf[(gboxdf['SensorID'] == 101) & (gboxdf['MeasureName'] == 'temperature')][['Timestamp', 'Value']]\n",
    "\n",
    "# Temperaturverlauf plotten\n",
    "plt.figure(figsize=(12, 6))\n",
    "plt.plot(temp_df['Timestamp'], temp_df['Value'])\n",
    "plt.title('Temperaturverlauf des Sensors 101')\n",
    "plt.xlabel('Zeit')\n",
    "plt.ylabel('Temperatur (°C)')\n",
    "plt.grid(True)\n",
    "plt.xticks(rotation=45)\n",
    "plt.tight_layout()\n",
    "plt.show()"
   ],
   "id": "f61065e4d4026584"
  },
  {
   "metadata": {},
   "cell_type": "code",
   "outputs": [],
   "execution_count": null,
   "source": [
    "# Delta-Berechnung für Temperaturdaten\n",
    "temp_delta_df = temp_df.copy()\n",
    "temp_delta_df['Delta'] = temp_delta_df['Value'].diff()\n",
    "\n",
    "# Ersten Wert entfernen, da hier kein Delta berechnet werden kann\n",
    "temp_delta_df = temp_delta_df.dropna()\n",
    "\n",
    "# Delta-Werte plotten\n",
    "plt.figure(figsize=(12, 6))\n",
    "plt.plot(temp_delta_df['Timestamp'], temp_delta_df['Delta'])\n",
    "plt.title('Temperaturveränderungen des Sensors 101')\n",
    "plt.xlabel('Zeit')\n",
    "plt.ylabel('Temperaturänderung (°C)')\n",
    "plt.grid(True)\n",
    "plt.xticks(rotation=45)\n",
    "plt.tight_layout()\n",
    "plt.show()"
   ],
   "id": "313dbd5d2343926a"
  },
  {
   "metadata": {},
   "cell_type": "code",
   "outputs": [],
   "execution_count": null,
   "source": [
    "# Interaktiven Plot erstellen\n",
    "fig = px.line(temp_df, x='Timestamp', y='Value', title='Interaktiver Temperaturverlauf')\n",
    "fig.update_layout(xaxis_title='Zeit', yaxis_title='Temperatur (°C)')\n",
    "fig.show()"
   ],
   "id": "f0b910b9c7cbb70a"
  },
  {
   "metadata": {},
   "cell_type": "code",
   "outputs": [],
   "execution_count": null,
   "source": [
    "# Wetterdaten vorbereiten\n",
    "weatherdf[\"date\"] = pd.to_datetime(weatherdf[\"date\"])\n",
    "\n",
    "# Tagesbasierte Aggregation der Sensordaten für den Vergleich\n",
    "temp_daily = temp_df.set_index('Timestamp').resample('D').mean().reset_index()\n",
    "temp_daily['date'] = temp_daily['Timestamp'].dt.date\n",
    "\n",
    "# Zusammenführen der Daten auf Tagesbasis\n",
    "merged_data = pd.merge(temp_daily, weatherdf, on='date', how='inner')\n",
    "\n",
    "# Korrelation zwischen Sensortemperatur und Wetterdaten plotten\n",
    "if 'temperature_2m_mean' in weatherdf.columns:\n",
    "    plt.figure(figsize=(10, 6))\n",
    "    plt.scatter(merged_data['temperature_2m_mean'], merged_data['Value'])\n",
    "    plt.title('Korrelation: Sensortemperatur vs. Wettertemperatur')\n",
    "    plt.xlabel('Wettertemperatur (°C)')\n",
    "    plt.ylabel('Sensortemperatur (°C)')\n",
    "    plt.grid(True)\n",
    "    plt.show()"
   ],
   "id": "4e59166397bb8cd1"
  },
  {
   "metadata": {},
   "cell_type": "code",
   "outputs": [],
   "execution_count": null,
   "source": [
    "# Feuchtigkeitsdaten aller Sensoren visualisieren\n",
    "plt.figure(figsize=(14, 8))\n",
    "plt.plot(sensor_101_df['Timestamp'], sensor_101_df['Value'], label='Sensor 101')\n",
    "plt.plot(sensor_102_df['Timestamp'], sensor_102_df['Value'], label='Sensor 102')\n",
    "plt.plot(sensor_103_df['Timestamp'], sensor_103_df['Value'], label='Sensor 103')\n",
    "plt.plot(sensor_104_df['Timestamp'], sensor_104_df['Value'], label='Sensor 104')\n",
    "plt.plot(sensor_105_df['Timestamp'], sensor_105_df['Value'], label='Sensor 105')\n",
    "plt.title('Feuchtigkeitsverlauf aller Sensoren')\n",
    "plt.xlabel('Zeit')\n",
    "plt.ylabel('Feuchtigkeit (%)')\n",
    "plt.legend()\n",
    "plt.grid(True)\n",
    "plt.xticks(rotation=45)\n",
    "plt.tight_layout()\n",
    "plt.show"
   ],
   "id": "8e31cb7a652685a"
  },
  {
   "metadata": {},
   "cell_type": "code",
   "outputs": [],
   "execution_count": null,
   "source": [
    "# Statistische Analyse der Feuchtigkeit\n",
    "moisture_stats = pd.DataFrame({\n",
    "    'Sensor 101': sensor_101_df['Value'].describe(),\n",
    "    'Sensor 102': sensor_102_df['Value'].describe(),\n",
    "    'Sensor 103': sensor_103_df['Value'].describe(),\n",
    "    'Sensor 104': sensor_104_df['Value'].describe(),\n",
    "    'Sensor 105': sensor_105_df['Value'].describe()\n",
    "})\n",
    "\n",
    "print(\"Statistische Analyse der Feuchtigkeitswerte:\")\n",
    "print(moisture_stats)\n",
    "\n",
    "# Boxplot für Feuchtigkeitsverteilung\n",
    "plt.figure(figsize=(12, 6))\n",
    "boxplot_data = [\n",
    "    sensor_101_df['Value'],\n",
    "    sensor_102_df['Value'],\n",
    "    sensor_103_df['Value'],\n",
    "    sensor_104_df['Value'],\n",
    "    sensor_105_df['Value']\n",
    "]\n",
    "plt.boxplot(boxplot_data, labels=['Sensor 101', 'Sensor 102', 'Sensor 103', 'Sensor 104', 'Sensor 105'])\n",
    "plt.title('Verteilung der Feuchtigkeitswerte nach Sensor')\n",
    "plt.ylabel('Feuchtigkeit (%)')\n",
    "plt.grid(True, linestyle='--', alpha=0.7)\n",
    "plt.show"
   ],
   "id": "19ade38c20714b38"
  },
  {
   "metadata": {},
   "cell_type": "code",
   "outputs": [],
   "execution_count": null,
   "source": [
    "# Tageszeitliche Analyse der Temperatur\n",
    "temp_df['Hour'] = temp_df['Timestamp'].dt.hour\n",
    "hourly_temp = temp_df.groupby('Hour')['Value'].mean()\n",
    "\n",
    "plt.figure(figsize=(10, 6))\n",
    "plt.bar(hourly_temp.index, hourly_temp.values)\n",
    "plt.title('Durchschnittliche Temperatur nach Tageszeit')\n",
    "plt.xlabel('Stunde des Tages')\n",
    "plt.ylabel('Durchschnittstemperatur (°C)')\n",
    "plt.xticks(range(0, 24))\n",
    "plt.grid(True, axis='y', linestyle='--', alpha=0.7)\n",
    "plt.show"
   ],
   "id": "c75aa6451f08965b"
  },
  {
   "metadata": {},
   "cell_type": "code",
   "outputs": [],
   "execution_count": null,
   "source": [
    "# Korrelationsanalyse mit Wetterdaten\n",
    "if 'precipitation_sum' in weatherdf.columns and 'temperature_2m_mean' in weatherdf.columns:\n",
    "    correlation_matrix = merged_data[['Value', 'temperature_2m_mean', 'precipitation_sum']].corr()\n",
    "\n",
    "    plt.figure(figsize=(8, 6))\n",
    "    sns.heatmap(correlation_matrix, annot=True, cmap='coolwarm', vmin=-1, vmax=1)\n",
    "    plt.title('Korrelationsmatrix: Sensortemperatur und Wetterdaten')\n",
    "    plt.tight_layout()\n",
    "    plt.show()\n",
    "\n",
    "    # Niederschlag und Feuchtigkeit\n",
    "    moisture_daily = sensor_101_df.set_index('Timestamp').resample('D').mean().reset_index()\n",
    "    moisture_daily['date'] = moisture_daily['Timestamp'].dt.date\n",
    "    moisture_weather = pd.merge(moisture_daily, weatherdf, on='date', how='inner')\n",
    "\n",
    "    plt.figure(figsize=(12, 6))\n",
    "    fig, ax1 = plt.subplots(figsize=(12, 6))\n",
    "\n",
    "    color = 'tab:blue'\n",
    "    ax1.set_xlabel('Datum')\n",
    "    ax1.set_ylabel('Feuchtigkeit (%)', color=color)\n",
    "    ax1.plot(moisture_weather['date'], moisture_weather['Value'], color=color)\n",
    "    ax1.tick_params(axis='y', labelcolor=color)\n",
    "\n",
    "    ax2 = ax1.twinx()\n",
    "    color = 'tab:red'\n",
    "    ax2.set_ylabel('Niederschlag (mm)', color=color)\n",
    "    ax2.bar(moisture_weather['date'], moisture_weather['precipitation_sum'], color=color, alpha=0.5)\n",
    "    ax2.tick_params(axis='y', labelcolor=color)\n",
    "\n",
    "    plt.title('Feuchtigkeit und Niederschlag im Vergleich')\n",
    "    fig.tight_layout()\n",
    "    plt.xticks(rotation=45)\n",
    "    plt.show()"
   ],
   "id": "6502993aa38cc583"
  }
 ],
 "metadata": {
  "kernelspec": {
   "display_name": "Python 3",
   "language": "python",
   "name": "python3"
  },
  "language_info": {
   "codemirror_mode": {
    "name": "ipython",
    "version": 2
   },
   "file_extension": ".py",
   "mimetype": "text/x-python",
   "name": "python",
   "nbconvert_exporter": "python",
   "pygments_lexer": "ipython2",
   "version": "2.7.6"
  }
 },
 "nbformat": 4,
 "nbformat_minor": 5
}
