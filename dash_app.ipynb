{
 "cells": [
  {
   "cell_type": "code",
   "execution_count": null,
   "id": "initial_id",
   "metadata": {
    "collapsed": true
   },
   "outputs": [],
   "source": [
    "# Import der benötigten Bibliotheken\n",
    "import pandas as pd\n",
    "import numpy as np\n",
    "from dash import Dash, html, dcc, callback, Output, Input\n",
    "import plotly.express as px\n",
    "import plotly.graph_objs as go"
   ]
  },
  {
   "metadata": {},
   "cell_type": "code",
   "outputs": [],
   "execution_count": null,
   "source": [
    "# Daten einlesen\n",
    "gboxdf = pd.read_csv('gboxdata092025.csv', sep=';')\n",
    "weatherdf = pd.read_csv('openmeteodata.csv', sep=',', skiprows=3)\n",
    "\n",
    "# Konvertierung der Zeitstempel in datetime-Objekte\n",
    "gboxdf['Timestamp'] = pd.to_datetime(gboxdf['Timestamp'])\n",
    "weatherdf[\"date\"] = pd.to_datetime(weatherdf[\"date\"])"
   ],
   "id": "5d80560919fe8ddb"
  },
  {
   "metadata": {},
   "cell_type": "code",
   "outputs": [],
   "execution_count": null,
   "source": [
    "# Korrekte Spalte für die Werte\n",
    "value_column = 'Value'\n",
    "\n",
    "# Für jeden Sensor einen DataFrame erstellen mit korrekter Filterung\n",
    "sensor_101_df = gboxdf[(gboxdf['SensorID'] == 101) & (gboxdf['MeasureName'] == 'moisture')][['Timestamp', value_column]]\n",
    "sensor_102_df = gboxdf[(gboxdf['SensorID'] == 102) & (gboxdf['MeasureName'] == 'moisture')][['Timestamp', value_column]]\n",
    "sensor_103_df = gboxdf[(gboxdf['SensorID'] == 103) & (gboxdf['MeasureName'] == 'moisture')][['Timestamp', value_column]]\n",
    "sensor_104_df = gboxdf[(gboxdf['SensorID'] == 104) & (gboxdf['MeasureName'] == 'moisture')][['Timestamp', value_column]]\n",
    "sensor_105_df = gboxdf[(gboxdf['SensorID'] == 105) & (gboxdf['MeasureName'] == 'moisture')][['Timestamp', value_column]]\n",
    "\n",
    "# Temperaturdaten filtern\n",
    "temp_df = gboxdf[(gboxdf['SensorID'] == 101) & (gboxdf['MeasureName'] == 'temperature')][['Timestamp', value_column]]"
   ],
   "id": "992fab49270f3b98"
  },
  {
   "metadata": {
    "ExecuteTime": {
     "end_time": "2025-10-16T07:50:19.019213Z",
     "start_time": "2025-10-16T07:50:18.782684Z"
    }
   },
   "cell_type": "code",
   "source": [
    "# Umbenennung der Value-Spalte für jeden Sensor\n",
    "sensor_101_df = sensor_101_df.rename(columns={value_column: 'Sensorwert101'})\n",
    "sensor_102_df = sensor_102_df.rename(columns={value_column: 'Sensorwert102'})\n",
    "sensor_103_df = sensor_103_df.rename(columns={value_column: 'Sensorwert103'})\n",
    "sensor_104_df = sensor_104_df.rename(columns={value_column: 'Sensorwert104'})\n",
    "sensor_105_df = sensor_105_df.rename(columns={value_column: 'Sensorwert105'})"
   ],
   "id": "9e4f13d0532a850d",
   "outputs": [
    {
     "ename": "NameError",
     "evalue": "name 'sensor_101_df' is not defined",
     "output_type": "error",
     "traceback": [
      "\u001B[31m---------------------------------------------------------------------------\u001B[39m",
      "\u001B[31mNameError\u001B[39m                                 Traceback (most recent call last)",
      "\u001B[36mCell\u001B[39m\u001B[36m \u001B[39m\u001B[32mIn[1]\u001B[39m\u001B[32m, line 2\u001B[39m\n\u001B[32m      1\u001B[39m \u001B[38;5;66;03m# Umbenennung der Value-Spalte für jeden Sensor\u001B[39;00m\n\u001B[32m----> \u001B[39m\u001B[32m2\u001B[39m sensor_101_df = \u001B[43msensor_101_df\u001B[49m.rename(columns={value_column: \u001B[33m'\u001B[39m\u001B[33mSensorwert101\u001B[39m\u001B[33m'\u001B[39m})\n\u001B[32m      3\u001B[39m sensor_102_df = sensor_102_df.rename(columns={value_column: \u001B[33m'\u001B[39m\u001B[33mSensorwert102\u001B[39m\u001B[33m'\u001B[39m})\n\u001B[32m      4\u001B[39m sensor_103_df = sensor_103_df.rename(columns={value_column: \u001B[33m'\u001B[39m\u001B[33mSensorwert103\u001B[39m\u001B[33m'\u001B[39m})\n",
      "\u001B[31mNameError\u001B[39m: name 'sensor_101_df' is not defined"
     ]
    }
   ],
   "execution_count": 1
  },
  {
   "metadata": {},
   "cell_type": "code",
   "outputs": [],
   "execution_count": null,
   "source": [
    "# Zusammenführen der DataFrames über den Timestamp\n",
    "# Zuerst 101 und 102 zusammenführen\n",
    "combined_df = pd.merge(sensor_101_df, sensor_102_df, on='Timestamp', how='outer')\n",
    "\n",
    "# Dann die restlichen nacheinander hinzufügen\n",
    "combined_df = pd.merge(combined_df, sensor_103_df, on='Timestamp', how='outer')\n",
    "combined_df = pd.merge(combined_df, sensor_104_df, on='Timestamp', how='outer')\n",
    "combined_df = pd.merge(combined_df, sensor_105_df, on='Timestamp', how='outer')\n",
    "\n",
    "# Sortieren nach Timestamp\n",
    "combined_df = combined_df.sort_values('Timestamp')"
   ],
   "id": "7f86fa6aa60c07e5"
  },
  {
   "metadata": {},
   "cell_type": "code",
   "outputs": [],
   "execution_count": null,
   "source": [
    "# Melting der Daten für einfachere Darstellung mit Plotly\n",
    "melted_df = pd.melt(combined_df,\n",
    "                    id_vars=['Timestamp'],\n",
    "                    value_vars=['Sensorwert101', 'Sensorwert102', 'Sensorwert103',\n",
    "                               'Sensorwert104', 'Sensorwert105'],\n",
    "                    var_name='Sensor', value_name='Feuchtigkeit')"
   ],
   "id": "e15518174af64b77"
  },
  {
   "metadata": {},
   "cell_type": "code",
   "outputs": [],
   "execution_count": null,
   "source": [
    "# Aggregierte Statistiken\n",
    "daily_df = combined_df.copy()\n",
    "daily_df['Datum'] = daily_df['Timestamp'].dt.date\n",
    "daily_stats = daily_df.groupby('Datum').agg({\n",
    "    'Sensorwert101': ['mean', 'min', 'max'],\n",
    "    'Sensorwert102': ['mean', 'min', 'max'],\n",
    "    'Sensorwert103': ['mean', 'min', 'max'],\n",
    "    'Sensorwert104': ['mean', 'min', 'max'],\n",
    "    'Sensorwert105': ['mean', 'min', 'max']\n",
    "})\n",
    "\n",
    "# Wetterdaten vorbereiten\n",
    "weather_daily = weatherdf.copy()\n",
    "weather_daily['date'] = pd.to_datetime(weather_daily['date']).dt.date"
   ],
   "id": "5e1e52d052618451"
  },
  {
   "metadata": {},
   "cell_type": "code",
   "outputs": [],
   "execution_count": null,
   "source": [
    "# App erstellen\n",
    "app = Dash(__name__)\n",
    "\n",
    "# Layout der App definieren\n",
    "app.layout = html.Div([\n",
    "    html.H1('Uniteichpegel-Sensoranalyse', style={'textAlign': 'center'}),\n",
    "\n",
    "    html.Div([\n",
    "        html.H2('Feuchtigkeitsdaten der Sensoren'),\n",
    "        html.P('Wählen Sie die anzuzeigenden Sensoren:'),\n",
    "        dcc.Checklist(\n",
    "            id='sensor-checklist',\n",
    "            options=[\n",
    "                {'label': 'Sensor 101', 'value': 'Sensorwert101'},\n",
    "                {'label': 'Sensor 102', 'value': 'Sensorwert102'},\n",
    "                {'label': 'Sensor 103', 'value': 'Sensorwert103'},\n",
    "                {'label': 'Sensor 104', 'value': 'Sensorwert104'},\n",
    "                {'label': 'Sensor 105', 'value': 'Sensorwert105'}\n",
    "            ],\n",
    "            value=['Sensorwert101', 'Sensorwert102', 'Sensorwert103', 'Sensorwert104', 'Sensorwert105'],\n",
    "            inline=True\n",
    "        ),\n",
    "        dcc.Graph(id='moisture-time-series'),\n",
    "\n",
    "        html.H3('Zeitraum auswählen:'),\n",
    "        dcc.DatePickerRange(\n",
    "            id='date-picker-range',\n",
    "            min_date_allowed=combined_df['Timestamp'].min().date(),\n",
    "            max_date_allowed=combined_df['Timestamp'].max().date(),\n",
    "            start_date=combined_df['Timestamp'].min().date(),\n",
    "            end_date=combined_df['Timestamp'].max().date()\n",
    "        ),\n",
    "    ]),\n",
    "\n",
    "    html.Div([\n",
    "        html.H2('Statistische Auswertung'),\n",
    "        dcc.Dropdown(\n",
    "            id='stats-dropdown',\n",
    "            options=[\n",
    "                {'label': 'Boxplot - Feuchtigkeitsverteilung', 'value': 'boxplot'},\n",
    "                {'label': 'Heatmap - Täglicher Verlauf', 'value': 'heatmap'},\n",
    "                {'label': 'Balkendiagramm - Durchschnittswerte', 'value': 'bar'}\n",
    "            ],\n",
    "            value='boxplot'\n",
    "        ),\n",
    "        dcc.Graph(id='stats-graph')\n",
    "    ]),\n",
    "\n",
    "    html.Div([\n",
    "        html.H2('Wetter und Feuchtigkeit'),\n",
    "        html.P('Vergleich von Sensordaten mit Wetterbedingungen:'),\n",
    "        dcc.Dropdown(\n",
    "            id='weather-dropdown',\n",
    "            options=[col for col in weatherdf.columns if col not in ['date']],\n",
    "            value='precipitation' if 'precipitation' in weatherdf.columns else weatherdf.columns[1]\n",
    "        ),\n",
    "        dcc.Graph(id='weather-correlation')\n",
    "    ]),\n",
    "\n",
    "    html.Div([\n",
    "        html.H2('Zusammenfassung der Sensordaten'),\n",
    "        html.Div(id='summary-stats')\n",
    "    ]),\n",
    "\n",
    "    html.Footer([\n",
    "        html.P('Uniteichpegelbox-Analyse Dashboard © 2023', style={'textAlign': 'center'})\n",
    "    ])\n",
    "], style={'padding': '20px', 'fontFamily': 'Arial'})"
   ],
   "id": "30fc39004af7f468"
  },
  {
   "metadata": {},
   "cell_type": "code",
   "outputs": [],
   "execution_count": null,
   "source": [
    "# Callbacks\n",
    "\n",
    "@app.callback(\n",
    "    Output('moisture-time-series', 'figure'),\n",
    "    [Input('sensor-checklist', 'value'),\n",
    "     Input('date-picker-range', 'start_date'),\n",
    "     Input('date-picker-range', 'end_date')]\n",
    ")\n",
    "def update_moisture_graph(selected_sensors, start_date, end_date):\n",
    "    # Zeitraum filtern\n",
    "    filtered_df = combined_df.copy()\n",
    "    filtered_df = filtered_df[(filtered_df['Timestamp'].dt.date >= pd.to_datetime(start_date).date()) &\n",
    "                             (filtered_df['Timestamp'].dt.date <= pd.to_datetime(end_date).date())]\n",
    "\n",
    "    # Erstellen des Plots\n",
    "    fig = go.Figure()\n",
    "\n",
    "    for sensor in selected_sensors:\n",
    "        fig.add_trace(go.Scatter(\n",
    "            x=filtered_df['Timestamp'],\n",
    "            y=filtered_df[sensor],\n",
    "            mode='lines+"
   ],
   "id": "8e56c3444eb326f1"
  }
 ],
 "metadata": {
  "kernelspec": {
   "display_name": "Python 3",
   "language": "python",
   "name": "python3"
  },
  "language_info": {
   "codemirror_mode": {
    "name": "ipython",
    "version": 2
   },
   "file_extension": ".py",
   "mimetype": "text/x-python",
   "name": "python",
   "nbconvert_exporter": "python",
   "pygments_lexer": "ipython2",
   "version": "2.7.6"
  }
 },
 "nbformat": 4,
 "nbformat_minor": 5
}
